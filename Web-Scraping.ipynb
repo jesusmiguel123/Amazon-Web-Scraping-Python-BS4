{
 "cells": [
  {
   "attachments": {},
   "cell_type": "markdown",
   "metadata": {},
   "source": [
    "## Librerias"
   ]
  },
  {
   "cell_type": "code",
   "execution_count": 5,
   "metadata": {},
   "outputs": [],
   "source": [
    "from bs4 import BeautifulSoup\n",
    "import requests\n",
    "import pandas as pd"
   ]
  },
  {
   "attachments": {},
   "cell_type": "markdown",
   "metadata": {},
   "source": [
    "## URL del sitio a realizar scraping"
   ]
  },
  {
   "cell_type": "code",
   "execution_count": 7,
   "metadata": {},
   "outputs": [],
   "source": [
    "URL = \"https://www.amazon.com/s?k=grafica&__mk_es_US=%C3%85M%C3%85%C5%BD%C3%95%C3%91&crid=1HHI6WRXO7GCO&sprefix=grafica%2Caps%2C200&ref=nb_sb_noss_1\""
   ]
  },
  {
   "attachments": {},
   "cell_type": "markdown",
   "metadata": {},
   "source": [
    "## Headers"
   ]
  },
  {
   "cell_type": "code",
   "execution_count": 29,
   "metadata": {},
   "outputs": [],
   "source": [
    "HEADERS = ({\n",
    "   'User-Agent': 'Mozilla/5.0 (X11; Linux x86_64) AppleWebKit/537.36 (KHTML, like Gecko) Chrome/110.0.0.0 Safari/537.36',\n",
    "   'Accept-Language': 'es-US, es; q=0.5'\n",
    "})"
   ]
  },
  {
   "attachments": {},
   "cell_type": "markdown",
   "metadata": {},
   "source": [
    "## Obtener HTML"
   ]
  },
  {
   "cell_type": "code",
   "execution_count": 30,
   "metadata": {},
   "outputs": [],
   "source": [
    "html = requests.get(URL, headers=HEADERS)"
   ]
  },
  {
   "attachments": {},
   "cell_type": "markdown",
   "metadata": {},
   "source": [
    "## Parser a `bs object`"
   ]
  },
  {
   "cell_type": "code",
   "execution_count": 32,
   "metadata": {},
   "outputs": [],
   "source": [
    "soup = BeautifulSoup(html.content, 'html.parser')\n",
    "links = soup.find_all(\n",
    "   'a',\n",
    "   attrs={\n",
    "      'class': 'a-link-normal s-underline-text s-underline-link-text s-link-style a-text-normal'\n",
    "   }\n",
    ")"
   ]
  },
  {
   "attachments": {},
   "cell_type": "markdown",
   "metadata": {},
   "source": [
    "## HTML de un producto"
   ]
  },
  {
   "cell_type": "code",
   "execution_count": 37,
   "metadata": {},
   "outputs": [
    {
     "data": {
      "text/plain": [
       "<Response [200]>"
      ]
     },
     "execution_count": 37,
     "metadata": {},
     "output_type": "execute_result"
    }
   ],
   "source": [
    "products_html = requests.get('https://amazon.com' + links[0].get('href'), headers=HEADERS)\n",
    "products_html"
   ]
  },
  {
   "attachments": {},
   "cell_type": "markdown",
   "metadata": {},
   "source": [
    "## Parser"
   ]
  },
  {
   "cell_type": "code",
   "execution_count": 41,
   "metadata": {},
   "outputs": [],
   "source": [
    "sp = BeautifulSoup(products_html.content, 'html.parser')"
   ]
  },
  {
   "attachments": {},
   "cell_type": "markdown",
   "metadata": {},
   "source": [
    "### Obtener titulo"
   ]
  },
  {
   "cell_type": "code",
   "execution_count": 56,
   "metadata": {},
   "outputs": [
    {
     "data": {
      "text/plain": [
       "'ZOTAC Gaming GeForce RTX 4070 Ti Trinity OC DLSS 3 12GB GDDR6X 192-bit 21 Gbps PCIE 4.0 Tarjeta gráfica para juegos, IceStorm 2.0 Advanced Cooling, Spectra 2.0 RGB Lighting, ZT-D40710J-10P'"
      ]
     },
     "execution_count": 56,
     "metadata": {},
     "output_type": "execute_result"
    }
   ],
   "source": [
    "sp.find_all(                # Tener tag h1\n",
    "   'h1',\n",
    "   attrs={\n",
    "      'id': 'title'\n",
    "   }\n",
    ")[0].find_all(              # Subtag span\n",
    "   'span',\n",
    "   attrs={\n",
    "      'id': 'productTitle'\n",
    "   }\n",
    ")[0].text.strip()"
   ]
  },
  {
   "attachments": {},
   "cell_type": "markdown",
   "metadata": {},
   "source": [
    "### Obtener precio"
   ]
  },
  {
   "cell_type": "code",
   "execution_count": 78,
   "metadata": {},
   "outputs": [
    {
     "data": {
      "text/plain": [
       "'US$829.99'"
      ]
     },
     "execution_count": 78,
     "metadata": {},
     "output_type": "execute_result"
    }
   ],
   "source": [
    "currency = sp.find_all(\n",
    "   'span',\n",
    "   attrs={\n",
    "      'class': 'a-price-symbol'\n",
    "   }\n",
    ")[0].text.strip()\n",
    "\n",
    "dollars = sp.find_all(\n",
    "   'span',\n",
    "   attrs={\n",
    "      'class': 'a-price-whole'\n",
    "   }\n",
    ")[0].text.strip()\n",
    "\n",
    "cents = sp.find_all(\n",
    "   'span',\n",
    "   attrs={\n",
    "      'class': 'a-price-fraction'\n",
    "   }\n",
    ")[0].text.strip()\n",
    "\n",
    "currency + dollars + cents"
   ]
  },
  {
   "attachments": {},
   "cell_type": "markdown",
   "metadata": {},
   "source": [
    "### Obtener rating"
   ]
  },
  {
   "cell_type": "code",
   "execution_count": 64,
   "metadata": {},
   "outputs": [
    {
     "data": {
      "text/plain": [
       "'4.2 de 5 estrellas'"
      ]
     },
     "execution_count": 64,
     "metadata": {},
     "output_type": "execute_result"
    }
   ],
   "source": [
    "sp.find_all(              # Subtag span\n",
    "   'span',\n",
    "   attrs={\n",
    "      'class': 'a-icon-alt'\n",
    "   }\n",
    ")[0].text.strip()"
   ]
  },
  {
   "attachments": {},
   "cell_type": "markdown",
   "metadata": {},
   "source": [
    "### Obtener fecha de entrega"
   ]
  },
  {
   "cell_type": "code",
   "execution_count": 86,
   "metadata": {},
   "outputs": [
    {
     "data": {
      "text/plain": [
       "'10 - 30 de Marzo'"
      ]
     },
     "execution_count": 86,
     "metadata": {},
     "output_type": "execute_result"
    }
   ],
   "source": [
    "sp.find_all(\n",
    "   'div',\n",
    "   attrs={\n",
    "      'id': 'mir-layout-DELIVERY_BLOCK'\n",
    "   }\n",
    ")[0].find_all(\n",
    "   'span',\n",
    "   attrs={\n",
    "      'class': 'a-text-bold'\n",
    "   }\n",
    ")[0].text.strip()"
   ]
  }
 ],
 "metadata": {
  "kernelspec": {
   "display_name": "Python 3",
   "language": "python",
   "name": "python3"
  },
  "language_info": {
   "codemirror_mode": {
    "name": "ipython",
    "version": 3
   },
   "file_extension": ".py",
   "mimetype": "text/x-python",
   "name": "python",
   "nbconvert_exporter": "python",
   "pygments_lexer": "ipython3",
   "version": "3.10.6"
  },
  "orig_nbformat": 4,
  "vscode": {
   "interpreter": {
    "hash": "916dbcbb3f70747c44a77c7bcd40155683ae19c65e1c03b4aa3499c5328201f1"
   }
  }
 },
 "nbformat": 4,
 "nbformat_minor": 2
}
